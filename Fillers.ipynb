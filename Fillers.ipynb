{
 "cells": [
  {
   "cell_type": "code",
   "execution_count": 1,
   "metadata": {},
   "outputs": [],
   "source": [
    "import pandas as pd"
   ]
  },
  {
   "cell_type": "code",
   "execution_count": 2,
   "metadata": {},
   "outputs": [],
   "source": [
    "df = pd.read_csv('df.csv')\n",
    "df_contexts = pd.read_csv('contexts.csv', index_col='id')"
   ]
  },
  {
   "cell_type": "code",
   "execution_count": 3,
   "metadata": {},
   "outputs": [
    {
     "data": {
      "text/plain": [
       "45122"
      ]
     },
     "execution_count": 3,
     "metadata": {},
     "output_type": "execute_result"
    }
   ],
   "source": [
    "df['source'].fillna('testing', inplace=True)\n",
    "df = df[~df['contexts'].isnull()]\n",
    "len(df)"
   ]
  },
  {
   "cell_type": "code",
   "execution_count": 4,
   "metadata": {},
   "outputs": [
    {
     "data": {
      "text/html": [
       "<div>\n",
       "<style scoped>\n",
       "    .dataframe tbody tr th:only-of-type {\n",
       "        vertical-align: middle;\n",
       "    }\n",
       "\n",
       "    .dataframe tbody tr th {\n",
       "        vertical-align: top;\n",
       "    }\n",
       "\n",
       "    .dataframe thead th {\n",
       "        text-align: right;\n",
       "    }\n",
       "</style>\n",
       "<table border=\"1\" class=\"dataframe\">\n",
       "  <thead>\n",
       "    <tr style=\"text-align: right;\">\n",
       "      <th></th>\n",
       "      <th>participant</th>\n",
       "      <th>source</th>\n",
       "      <th>cs</th>\n",
       "      <th>is_filler</th>\n",
       "      <th>word</th>\n",
       "      <th>group</th>\n",
       "      <th>contexts</th>\n",
       "    </tr>\n",
       "  </thead>\n",
       "  <tbody>\n",
       "    <tr>\n",
       "      <th>0</th>\n",
       "      <td>e462d60e-28f2-4b3f-af8c-ee80342034c4</td>\n",
       "      <td>testing</td>\n",
       "      <td>49</td>\n",
       "      <td>True</td>\n",
       "      <td>длинный</td>\n",
       "      <td>no</td>\n",
       "      <td>331 332 333 334 335</td>\n",
       "    </tr>\n",
       "    <tr>\n",
       "      <th>1</th>\n",
       "      <td>e462d60e-28f2-4b3f-af8c-ee80342034c4</td>\n",
       "      <td>testing</td>\n",
       "      <td>24</td>\n",
       "      <td>False</td>\n",
       "      <td>беззаботный</td>\n",
       "      <td>close_far_meton</td>\n",
       "      <td>152 154 158</td>\n",
       "    </tr>\n",
       "    <tr>\n",
       "      <th>2</th>\n",
       "      <td>e462d60e-28f2-4b3f-af8c-ee80342034c4</td>\n",
       "      <td>testing</td>\n",
       "      <td>24</td>\n",
       "      <td>False</td>\n",
       "      <td>беззаботный</td>\n",
       "      <td>close_far_meton</td>\n",
       "      <td>159 155 151</td>\n",
       "    </tr>\n",
       "    <tr>\n",
       "      <th>3</th>\n",
       "      <td>e462d60e-28f2-4b3f-af8c-ee80342034c4</td>\n",
       "      <td>testing</td>\n",
       "      <td>24</td>\n",
       "      <td>False</td>\n",
       "      <td>беззаботный</td>\n",
       "      <td>close_far_meton</td>\n",
       "      <td>153 156 157</td>\n",
       "    </tr>\n",
       "    <tr>\n",
       "      <th>4</th>\n",
       "      <td>e462d60e-28f2-4b3f-af8c-ee80342034c4</td>\n",
       "      <td>testing</td>\n",
       "      <td>43</td>\n",
       "      <td>False</td>\n",
       "      <td>смелый</td>\n",
       "      <td>close_close_meton</td>\n",
       "      <td>297 295</td>\n",
       "    </tr>\n",
       "  </tbody>\n",
       "</table>\n",
       "</div>"
      ],
      "text/plain": [
       "                            participant   source  cs  is_filler         word  \\\n",
       "0  e462d60e-28f2-4b3f-af8c-ee80342034c4  testing  49       True      длинный   \n",
       "1  e462d60e-28f2-4b3f-af8c-ee80342034c4  testing  24      False  беззаботный   \n",
       "2  e462d60e-28f2-4b3f-af8c-ee80342034c4  testing  24      False  беззаботный   \n",
       "3  e462d60e-28f2-4b3f-af8c-ee80342034c4  testing  24      False  беззаботный   \n",
       "4  e462d60e-28f2-4b3f-af8c-ee80342034c4  testing  43      False       смелый   \n",
       "\n",
       "               group             contexts  \n",
       "0                 no  331 332 333 334 335  \n",
       "1    close_far_meton          152 154 158  \n",
       "2    close_far_meton          159 155 151  \n",
       "3    close_far_meton          153 156 157  \n",
       "4  close_close_meton              297 295  "
      ]
     },
     "execution_count": 4,
     "metadata": {},
     "output_type": "execute_result"
    }
   ],
   "source": [
    "df.head()"
   ]
  },
  {
   "cell_type": "code",
   "execution_count": 5,
   "metadata": {},
   "outputs": [
    {
     "data": {
      "text/html": [
       "<div>\n",
       "<style scoped>\n",
       "    .dataframe tbody tr th:only-of-type {\n",
       "        vertical-align: middle;\n",
       "    }\n",
       "\n",
       "    .dataframe tbody tr th {\n",
       "        vertical-align: top;\n",
       "    }\n",
       "\n",
       "    .dataframe thead th {\n",
       "        text-align: right;\n",
       "    }\n",
       "</style>\n",
       "<table border=\"1\" class=\"dataframe\">\n",
       "  <thead>\n",
       "    <tr style=\"text-align: right;\">\n",
       "      <th></th>\n",
       "      <th>cs</th>\n",
       "      <th>derivation</th>\n",
       "      <th>text</th>\n",
       "    </tr>\n",
       "    <tr>\n",
       "      <th>id</th>\n",
       "      <th></th>\n",
       "      <th></th>\n",
       "      <th></th>\n",
       "    </tr>\n",
       "  </thead>\n",
       "  <tbody>\n",
       "    <tr>\n",
       "      <th>1</th>\n",
       "      <td>1</td>\n",
       "      <td>metonymy</td>\n",
       "      <td>У него были маленькие злые глазки.</td>\n",
       "    </tr>\n",
       "    <tr>\n",
       "      <th>9</th>\n",
       "      <td>2</td>\n",
       "      <td>homonym1</td>\n",
       "      <td>Повышение по службе дало надежды на карьерный ...</td>\n",
       "    </tr>\n",
       "    <tr>\n",
       "      <th>18</th>\n",
       "      <td>3</td>\n",
       "      <td>literal</td>\n",
       "      <td>В этом году английский у нас преподает нервна...</td>\n",
       "    </tr>\n",
       "    <tr>\n",
       "      <th>25</th>\n",
       "      <td>4</td>\n",
       "      <td>homonym1</td>\n",
       "      <td>Наша задача ― посеять на лугах и пастбищах нов...</td>\n",
       "    </tr>\n",
       "    <tr>\n",
       "      <th>32</th>\n",
       "      <td>5</td>\n",
       "      <td>literal</td>\n",
       "      <td>В ходе расследования выяснилось, что водитель ...</td>\n",
       "    </tr>\n",
       "  </tbody>\n",
       "</table>\n",
       "</div>"
      ],
      "text/plain": [
       "    cs derivation                                               text\n",
       "id                                                                  \n",
       "1    1   metonymy                 У него были маленькие злые глазки.\n",
       "9    2   homonym1  Повышение по службе дало надежды на карьерный ...\n",
       "18   3    literal   В этом году английский у нас преподает нервна...\n",
       "25   4   homonym1  Наша задача ― посеять на лугах и пастбищах нов...\n",
       "32   5    literal  В ходе расследования выяснилось, что водитель ..."
      ]
     },
     "execution_count": 5,
     "metadata": {},
     "output_type": "execute_result"
    }
   ],
   "source": [
    "df_contexts.head()"
   ]
  },
  {
   "cell_type": "code",
   "execution_count": 6,
   "metadata": {},
   "outputs": [
    {
     "data": {
      "text/html": [
       "<div>\n",
       "<style scoped>\n",
       "    .dataframe tbody tr th:only-of-type {\n",
       "        vertical-align: middle;\n",
       "    }\n",
       "\n",
       "    .dataframe tbody tr th {\n",
       "        vertical-align: top;\n",
       "    }\n",
       "\n",
       "    .dataframe thead th {\n",
       "        text-align: right;\n",
       "    }\n",
       "</style>\n",
       "<table border=\"1\" class=\"dataframe\">\n",
       "  <thead>\n",
       "    <tr style=\"text-align: right;\">\n",
       "      <th></th>\n",
       "      <th>participant</th>\n",
       "      <th>source</th>\n",
       "      <th>cs</th>\n",
       "      <th>is_filler</th>\n",
       "      <th>word</th>\n",
       "      <th>group</th>\n",
       "      <th>contexts</th>\n",
       "    </tr>\n",
       "  </thead>\n",
       "  <tbody>\n",
       "    <tr>\n",
       "      <th>0</th>\n",
       "      <td>e462d60e-28f2-4b3f-af8c-ee80342034c4</td>\n",
       "      <td>testing</td>\n",
       "      <td>49</td>\n",
       "      <td>True</td>\n",
       "      <td>длинный</td>\n",
       "      <td>no</td>\n",
       "      <td>331 332 333 334 335</td>\n",
       "    </tr>\n",
       "    <tr>\n",
       "      <th>10</th>\n",
       "      <td>e462d60e-28f2-4b3f-af8c-ee80342034c4</td>\n",
       "      <td>testing</td>\n",
       "      <td>48</td>\n",
       "      <td>True</td>\n",
       "      <td>круглый</td>\n",
       "      <td>no</td>\n",
       "      <td>325 326 327 328 329 330</td>\n",
       "    </tr>\n",
       "    <tr>\n",
       "      <th>19</th>\n",
       "      <td>e462d60e-28f2-4b3f-af8c-ee80342034c4</td>\n",
       "      <td>testing</td>\n",
       "      <td>44</td>\n",
       "      <td>True</td>\n",
       "      <td>строевой</td>\n",
       "      <td>no</td>\n",
       "      <td>300 301 302 303 304 305 306</td>\n",
       "    </tr>\n",
       "    <tr>\n",
       "      <th>24</th>\n",
       "      <td>1a8f0842-6a05-4a24-9235-437b6c35ef73</td>\n",
       "      <td>testing</td>\n",
       "      <td>48</td>\n",
       "      <td>True</td>\n",
       "      <td>круглый</td>\n",
       "      <td>no</td>\n",
       "      <td>325 326 327 328 329 330</td>\n",
       "    </tr>\n",
       "    <tr>\n",
       "      <th>25</th>\n",
       "      <td>1a8f0842-6a05-4a24-9235-437b6c35ef73</td>\n",
       "      <td>testing</td>\n",
       "      <td>44</td>\n",
       "      <td>True</td>\n",
       "      <td>строевой</td>\n",
       "      <td>no</td>\n",
       "      <td>300 301 302 303 304 305 306</td>\n",
       "    </tr>\n",
       "  </tbody>\n",
       "</table>\n",
       "</div>"
      ],
      "text/plain": [
       "                             participant   source  cs  is_filler      word  \\\n",
       "0   e462d60e-28f2-4b3f-af8c-ee80342034c4  testing  49       True   длинный   \n",
       "10  e462d60e-28f2-4b3f-af8c-ee80342034c4  testing  48       True   круглый   \n",
       "19  e462d60e-28f2-4b3f-af8c-ee80342034c4  testing  44       True  строевой   \n",
       "24  1a8f0842-6a05-4a24-9235-437b6c35ef73  testing  48       True   круглый   \n",
       "25  1a8f0842-6a05-4a24-9235-437b6c35ef73  testing  44       True  строевой   \n",
       "\n",
       "   group                     contexts  \n",
       "0     no          331 332 333 334 335  \n",
       "10    no      325 326 327 328 329 330  \n",
       "19    no  300 301 302 303 304 305 306  \n",
       "24    no      325 326 327 328 329 330  \n",
       "25    no  300 301 302 303 304 305 306  "
      ]
     },
     "execution_count": 6,
     "metadata": {},
     "output_type": "execute_result"
    }
   ],
   "source": [
    "df_fillers = df[df['is_filler']].copy()\n",
    "df_fillers.head()"
   ]
  },
  {
   "cell_type": "code",
   "execution_count": 7,
   "metadata": {},
   "outputs": [
    {
     "data": {
      "text/html": [
       "<div>\n",
       "<style scoped>\n",
       "    .dataframe tbody tr th:only-of-type {\n",
       "        vertical-align: middle;\n",
       "    }\n",
       "\n",
       "    .dataframe tbody tr th {\n",
       "        vertical-align: top;\n",
       "    }\n",
       "\n",
       "    .dataframe thead th {\n",
       "        text-align: right;\n",
       "    }\n",
       "</style>\n",
       "<table border=\"1\" class=\"dataframe\">\n",
       "  <thead>\n",
       "    <tr style=\"text-align: right;\">\n",
       "      <th></th>\n",
       "      <th>participant</th>\n",
       "      <th>source</th>\n",
       "      <th>cs</th>\n",
       "      <th>is_filler</th>\n",
       "      <th>word</th>\n",
       "      <th>group</th>\n",
       "      <th>contexts</th>\n",
       "    </tr>\n",
       "  </thead>\n",
       "  <tbody>\n",
       "    <tr>\n",
       "      <th>27</th>\n",
       "      <td>1a8f0842-6a05-4a24-9235-437b6c35ef73</td>\n",
       "      <td>testing</td>\n",
       "      <td>46</td>\n",
       "      <td>True</td>\n",
       "      <td>половой</td>\n",
       "      <td>no</td>\n",
       "      <td>312 313 314</td>\n",
       "    </tr>\n",
       "    <tr>\n",
       "      <th>28</th>\n",
       "      <td>1a8f0842-6a05-4a24-9235-437b6c35ef73</td>\n",
       "      <td>testing</td>\n",
       "      <td>46</td>\n",
       "      <td>True</td>\n",
       "      <td>половой</td>\n",
       "      <td>no</td>\n",
       "      <td>315 316 317 318 319</td>\n",
       "    </tr>\n",
       "  </tbody>\n",
       "</table>\n",
       "</div>"
      ],
      "text/plain": [
       "                             participant   source  cs  is_filler     word  \\\n",
       "27  1a8f0842-6a05-4a24-9235-437b6c35ef73  testing  46       True  половой   \n",
       "28  1a8f0842-6a05-4a24-9235-437b6c35ef73  testing  46       True  половой   \n",
       "\n",
       "   group             contexts  \n",
       "27    no          312 313 314  \n",
       "28    no  315 316 317 318 319  "
      ]
     },
     "execution_count": 7,
     "metadata": {},
     "output_type": "execute_result"
    }
   ],
   "source": [
    "df_fillers[\n",
    "    (df_fillers['participant'] == '1a8f0842-6a05-4a24-9235-437b6c35ef73')\n",
    "    & (df_fillers['cs'] == 46)\n",
    "]"
   ]
  },
  {
   "cell_type": "code",
   "execution_count": 8,
   "metadata": {},
   "outputs": [],
   "source": [
    "df_fillers['homogeneous_group'] = df_fillers['contexts'].apply(\n",
    "    lambda cs: len({df_contexts.loc[int(c_id)]['derivation'] for c_id in cs.split()}) == 1)"
   ]
  },
  {
   "cell_type": "code",
   "execution_count": 9,
   "metadata": {},
   "outputs": [
    {
     "data": {
      "text/plain": [
       "0.9608126410835215"
      ]
     },
     "execution_count": 9,
     "metadata": {},
     "output_type": "execute_result"
    }
   ],
   "source": [
    "df_fillers['homogeneous_group'].mean()"
   ]
  },
  {
   "cell_type": "code",
   "execution_count": 10,
   "metadata": {},
   "outputs": [],
   "source": [
    "all_homogeneous = df_fillers.groupby(['participant', 'source'])['homogeneous_group'].min().reset_index()"
   ]
  },
  {
   "cell_type": "code",
   "execution_count": 11,
   "metadata": {},
   "outputs": [
    {
     "data": {
      "text/html": [
       "<div>\n",
       "<style scoped>\n",
       "    .dataframe tbody tr th:only-of-type {\n",
       "        vertical-align: middle;\n",
       "    }\n",
       "\n",
       "    .dataframe tbody tr th {\n",
       "        vertical-align: top;\n",
       "    }\n",
       "\n",
       "    .dataframe thead th {\n",
       "        text-align: right;\n",
       "    }\n",
       "</style>\n",
       "<table border=\"1\" class=\"dataframe\">\n",
       "  <thead>\n",
       "    <tr style=\"text-align: right;\">\n",
       "      <th></th>\n",
       "      <th>count</th>\n",
       "      <th>mean</th>\n",
       "    </tr>\n",
       "    <tr>\n",
       "      <th>source</th>\n",
       "      <th></th>\n",
       "      <th></th>\n",
       "    </tr>\n",
       "  </thead>\n",
       "  <tbody>\n",
       "    <tr>\n",
       "      <th>all2</th>\n",
       "      <td>1</td>\n",
       "      <td>1.000000</td>\n",
       "    </tr>\n",
       "    <tr>\n",
       "      <th>social</th>\n",
       "      <td>192</td>\n",
       "      <td>0.989583</td>\n",
       "    </tr>\n",
       "    <tr>\n",
       "      <th>testing</th>\n",
       "      <td>30</td>\n",
       "      <td>0.566667</td>\n",
       "    </tr>\n",
       "    <tr>\n",
       "      <th>toloka</th>\n",
       "      <td>1455</td>\n",
       "      <td>0.858419</td>\n",
       "    </tr>\n",
       "    <tr>\n",
       "      <th>toloka_selected</th>\n",
       "      <td>468</td>\n",
       "      <td>0.931624</td>\n",
       "    </tr>\n",
       "  </tbody>\n",
       "</table>\n",
       "</div>"
      ],
      "text/plain": [
       "                 count      mean\n",
       "source                          \n",
       "all2                 1  1.000000\n",
       "social             192  0.989583\n",
       "testing             30  0.566667\n",
       "toloka            1455  0.858419\n",
       "toloka_selected    468  0.931624"
      ]
     },
     "execution_count": 11,
     "metadata": {},
     "output_type": "execute_result"
    }
   ],
   "source": [
    "all_homogeneous.groupby(['source'])['homogeneous_group'].agg(['count', 'mean'])"
   ]
  }
 ],
 "metadata": {
  "kernelspec": {
   "display_name": "Python 3",
   "language": "python",
   "name": "python3"
  },
  "language_info": {
   "codemirror_mode": {
    "name": "ipython",
    "version": 3
   },
   "file_extension": ".py",
   "mimetype": "text/x-python",
   "name": "python",
   "nbconvert_exporter": "python",
   "pygments_lexer": "ipython3",
   "version": "3.6.4"
  }
 },
 "nbformat": 4,
 "nbformat_minor": 2
}
